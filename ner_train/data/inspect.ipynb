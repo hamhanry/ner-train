{
 "cells": [
  {
   "cell_type": "code",
   "execution_count": 1,
   "metadata": {},
   "outputs": [],
   "source": [
    "import pandas as pd"
   ]
  },
  {
   "cell_type": "code",
   "execution_count": 10,
   "metadata": {},
   "outputs": [],
   "source": [
    "train_df = pd.read_csv(\"/home/ham/mnt/nas/project/kupu/dataset/resume_data/Resume/Resume.csv\")\n",
    "\n",
    "train_ref_df = pd.read_csv(\"/home/ham/mnt/nas/project/kupu/dataset/resume_job_desc/Resume.csv\")\n",
    "references_df = pd.read_csv(\"/home/ham/mnt/nas/project/kupu/dataset/resume_job_desc/training_data.csv\")"
   ]
  },
  {
   "cell_type": "code",
   "execution_count": 9,
   "metadata": {},
   "outputs": [
    {
     "data": {
      "text/plain": [
       "<bound method NDFrame.head of             ID                                         Resume_str  \\\n",
       "0     16852973           HR ADMINISTRATOR/MARKETING ASSOCIATE\\...   \n",
       "1     22323967           HR SPECIALIST, US HR OPERATIONS      ...   \n",
       "2     33176873           HR DIRECTOR       Summary      Over 2...   \n",
       "3     27018550           HR SPECIALIST       Summary    Dedica...   \n",
       "4     17812897           HR MANAGER         Skill Highlights  ...   \n",
       "...        ...                                                ...   \n",
       "2479  99416532           RANK: SGT/E-5 NON- COMMISSIONED OFFIC...   \n",
       "2480  24589765           GOVERNMENT RELATIONS, COMMUNICATIONS ...   \n",
       "2481  31605080           GEEK SQUAD AGENT         Professional...   \n",
       "2482  21190805           PROGRAM DIRECTOR / OFFICE MANAGER    ...   \n",
       "2483  37473139           STOREKEEPER II       Professional Sum...   \n",
       "\n",
       "                                            Resume_html  Category  \n",
       "0     <div class=\"fontsize fontface vmargins hmargin...        HR  \n",
       "1     <div class=\"fontsize fontface vmargins hmargin...        HR  \n",
       "2     <div class=\"fontsize fontface vmargins hmargin...        HR  \n",
       "3     <div class=\"fontsize fontface vmargins hmargin...        HR  \n",
       "4     <div class=\"fontsize fontface vmargins hmargin...        HR  \n",
       "...                                                 ...       ...  \n",
       "2479  <div class=\"fontsize fontface vmargins hmargin...  AVIATION  \n",
       "2480  <div class=\"fontsize fontface vmargins hmargin...  AVIATION  \n",
       "2481  <div class=\"fontsize fontface vmargins hmargin...  AVIATION  \n",
       "2482  <div class=\"fontsize fontface vmargins hmargin...  AVIATION  \n",
       "2483  <div class=\"fontsize fontface vmargins hmargin...  AVIATION  \n",
       "\n",
       "[2484 rows x 4 columns]>"
      ]
     },
     "execution_count": 9,
     "metadata": {},
     "output_type": "execute_result"
    }
   ],
   "source": [
    "train_df.head"
   ]
  },
  {
   "cell_type": "code",
   "execution_count": 11,
   "metadata": {},
   "outputs": [
    {
     "data": {
      "text/plain": [
       "<bound method NDFrame.head of             ID                                         Resume_str  \\\n",
       "0     16852973           HR ADMINISTRATOR/MARKETING ASSOCIATE\\...   \n",
       "1     22323967           HR SPECIALIST, US HR OPERATIONS      ...   \n",
       "2     33176873           HR DIRECTOR       Summary      Over 2...   \n",
       "3     27018550           HR SPECIALIST       Summary    Dedica...   \n",
       "4     17812897           HR MANAGER         Skill Highlights  ...   \n",
       "...        ...                                                ...   \n",
       "2479  99416532           RANK: SGT/E-5 NON- COMMISSIONED OFFIC...   \n",
       "2480  24589765           GOVERNMENT RELATIONS, COMMUNICATIONS ...   \n",
       "2481  31605080           GEEK SQUAD AGENT         Professional...   \n",
       "2482  21190805           PROGRAM DIRECTOR / OFFICE MANAGER    ...   \n",
       "2483  37473139           STOREKEEPER II       Professional Sum...   \n",
       "\n",
       "                                            Resume_html  Category  \n",
       "0     <div class=\"fontsize fontface vmargins hmargin...        HR  \n",
       "1     <div class=\"fontsize fontface vmargins hmargin...        HR  \n",
       "2     <div class=\"fontsize fontface vmargins hmargin...        HR  \n",
       "3     <div class=\"fontsize fontface vmargins hmargin...        HR  \n",
       "4     <div class=\"fontsize fontface vmargins hmargin...        HR  \n",
       "...                                                 ...       ...  \n",
       "2479  <div class=\"fontsize fontface vmargins hmargin...  AVIATION  \n",
       "2480  <div class=\"fontsize fontface vmargins hmargin...  AVIATION  \n",
       "2481  <div class=\"fontsize fontface vmargins hmargin...  AVIATION  \n",
       "2482  <div class=\"fontsize fontface vmargins hmargin...  AVIATION  \n",
       "2483  <div class=\"fontsize fontface vmargins hmargin...  AVIATION  \n",
       "\n",
       "[2484 rows x 4 columns]>"
      ]
     },
     "execution_count": 11,
     "metadata": {},
     "output_type": "execute_result"
    }
   ],
   "source": [
    "train_ref_df.head"
   ]
  },
  {
   "cell_type": "code",
   "execution_count": 8,
   "metadata": {},
   "outputs": [
    {
     "data": {
      "text/plain": [
       "<bound method NDFrame.head of              company_name                                    job_description  \\\n",
       "0                  Google  minimum qualifications\\nbachelors degree or eq...   \n",
       "1                   Apple  description\\nas an asc you will be highly infl...   \n",
       "2                 Netflix  its an amazing time to be joining netflix as w...   \n",
       "3             Robert Half  description\\n\\nweb designers looking to expand...   \n",
       "4               TrackFive  at trackfive weve got big goals were on a miss...   \n",
       "..                    ...                                                ...   \n",
       "848               Menards  job description\\n\\nparttime\\n\\nmake big money ...   \n",
       "849                Parker  responsibilities\\nparkers internship program w...   \n",
       "850        Borgen Project   the borgen project is an innovative national ...   \n",
       "851  Wyndham Destinations  put the world on vacation\\n\\nat wyndham destin...   \n",
       "852               Aerotek  this job handles customer inquiries by telepho...   \n",
       "\n",
       "                                        position_title  description_length  \\\n",
       "0                                     Sales Specialist                2727   \n",
       "1                           Apple Solutions Consultant                 828   \n",
       "2            Licensing Coordinator - Consumer Products                3205   \n",
       "3                                         Web Designer                2489   \n",
       "4                                        Web Developer                3167   \n",
       "..                                                 ...                 ...   \n",
       "848                              Management Internship                1122   \n",
       "849  Human Resources Internship - Corporate  (Year-...                3840   \n",
       "850                     Writer / Journalist Internship                 897   \n",
       "851          Inbound Customer Service / Sales (Remote)                4604   \n",
       "852     Remote Inbound Customer Service Representative                1592   \n",
       "\n",
       "                                        model_response  \n",
       "0     {\\n  \"Core Responsibilities\": \"Responsible fo...  \n",
       "1     {\\n  \"Core Responsibilities\": \"as an asc you ...  \n",
       "2     {\\n  \"Core Responsibilities\": \"Help drive bus...  \n",
       "3     {\\n  \"Core Responsibilities\": \"Designing webs...  \n",
       "4     {\\n  \"Core Responsibilities\": \"Build and layo...  \n",
       "..                                                 ...  \n",
       "848   {\\n  \"Core Responsibilities\": \"Responsibiliti...  \n",
       "849   {\\n  \"Core Responsibilities\": \"Assist in gene...  \n",
       "850   {\\n  \"Core Responsibilities\": \"Write one arti...  \n",
       "851   {\\n  \"Core Responsibilities\": \"Answer inbound...  \n",
       "852   {\\n  \"Core Responsibilities\": \"Handle incomin...  \n",
       "\n",
       "[853 rows x 5 columns]>"
      ]
     },
     "execution_count": 8,
     "metadata": {},
     "output_type": "execute_result"
    }
   ],
   "source": [
    "references_df.head"
   ]
  },
  {
   "cell_type": "code",
   "execution_count": null,
   "metadata": {},
   "outputs": [],
   "source": []
  }
 ],
 "metadata": {
  "kernelspec": {
   "display_name": "flip",
   "language": "python",
   "name": "python3"
  },
  "language_info": {
   "codemirror_mode": {
    "name": "ipython",
    "version": 3
   },
   "file_extension": ".py",
   "mimetype": "text/x-python",
   "name": "python",
   "nbconvert_exporter": "python",
   "pygments_lexer": "ipython3",
   "version": "3.9.18"
  }
 },
 "nbformat": 4,
 "nbformat_minor": 2
}
